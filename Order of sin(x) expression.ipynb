{
 "cells": [
  {
   "cell_type": "code",
   "execution_count": 1,
   "id": "ae9c1f68",
   "metadata": {},
   "outputs": [],
   "source": [
    "from math import sin, pi\n",
    "\n",
    "#Factorial::\n",
    "def fac(n):\n",
    "    if n == 0:\n",
    "        return 1\n",
    "    elif n == 1:\n",
    "        return 1\n",
    "    else:\n",
    "        return n*fac(n-1)\n",
    "    \n",
    "#Degree to Radian::\n",
    "def degtoRad(x):\n",
    "    return (pi*x/180)\n",
    "\n",
    "#Maclaurin series of sin(x)\n",
    "def value_of_sin(x,n):\n",
    "    sum = 0\n",
    "    for i in range(n):\n",
    "        sum += (-1)**i * x**(2*i+1)/fac(2*i+1) \n",
    "    return sum\n",
    "\n",
    "#Finding the order\n",
    "def order(a, error):\n",
    "    rad = degtoRad(a)\n",
    "    for j in range(1,10):\n",
    "        s = abs(sin(rad) - value_of_sin(rad, j))\n",
    "        if s < error:\n",
    "            print(\"The maximum order \", j)\n",
    "            break\n"
   ]
  },
  {
   "cell_type": "code",
   "execution_count": 2,
   "id": "cdc90c17",
   "metadata": {},
   "outputs": [
    {
     "name": "stdout",
     "output_type": "stream",
     "text": [
      "The maximum order  5\n"
     ]
    }
   ],
   "source": [
    "order(90, 0.0001)"
   ]
  },
  {
   "cell_type": "code",
   "execution_count": 3,
   "id": "8a262d7c",
   "metadata": {},
   "outputs": [
    {
     "name": "stdout",
     "output_type": "stream",
     "text": [
      "The maximum order  4\n"
     ]
    }
   ],
   "source": [
    "order(60, 0.0001)"
   ]
  },
  {
   "cell_type": "code",
   "execution_count": 4,
   "id": "06d291f9",
   "metadata": {},
   "outputs": [
    {
     "name": "stdout",
     "output_type": "stream",
     "text": [
      "The maximum order  3\n"
     ]
    }
   ],
   "source": [
    "order(30, 0.0001)"
   ]
  },
  {
   "cell_type": "code",
   "execution_count": 5,
   "id": "fe8553a2",
   "metadata": {},
   "outputs": [
    {
     "name": "stdout",
     "output_type": "stream",
     "text": [
      "The maximum order  2\n"
     ]
    }
   ],
   "source": [
    "order(15, 0.0001)"
   ]
  }
 ],
 "metadata": {
  "kernelspec": {
   "display_name": "Python 3 (ipykernel)",
   "language": "python",
   "name": "python3"
  },
  "language_info": {
   "codemirror_mode": {
    "name": "ipython",
    "version": 3
   },
   "file_extension": ".py",
   "mimetype": "text/x-python",
   "name": "python",
   "nbconvert_exporter": "python",
   "pygments_lexer": "ipython3",
   "version": "3.10.4"
  }
 },
 "nbformat": 4,
 "nbformat_minor": 5
}
